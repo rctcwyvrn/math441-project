{
 "cells": [
  {
   "cell_type": "markdown",
   "metadata": {},
   "source": [
    "# P-median model\n",
    "\n",
    "\n",
    "Decision variables\n",
    "- Whether or not to have a hospital at location $j$, $X_j$\n",
    "- Whether or not to allocate customer $i$ to hospital at $j$, $Y_{ij}$\n",
    "\n",
    "Constraints\n",
    "- You can only allocate to hospitals that exist\n",
    "$\\forall i,j Y_{ij} \\leq X_j$, alternatively $\\forall j \\sum_i^m Y_{ij} \\leq m X_j$ \n",
    "- Each person needs to be allocated to one hospital $\\forall i \\sum_j^n Y_{ij} = 1$\n",
    "- Need to locate exactly $p$ hospitals $\\sum_j X_j = p$\n",
    "\n",
    "Objective function\n",
    "- Minimize the sum of $Y_{ij} cost(i,j)$, the sum of all the costs to reach hospital $j$ from location $i$"
   ]
  },
  {
   "cell_type": "markdown",
   "metadata": {},
   "source": [
    "Note:\n",
    "- The entire constraint matrix is only dependent on $p$, $n$, and $m$, the only part that actually depends on the actual lat/long locations is the objective function\n",
    "- So I should write something that generates the entire constraint matrix given the constants"
   ]
  },
  {
   "cell_type": "code",
   "execution_count": 1,
   "metadata": {},
   "outputs": [],
   "source": [
    "import numpy as np\n",
    "from scipy.optimize import linprog"
   ]
  },
  {
   "cell_type": "code",
   "execution_count": 3,
   "metadata": {},
   "outputs": [],
   "source": [
    "def p_median_constraint_matrix(num_hospitals, num_patients, num_locations):\n",
    "    # n = num_locations\n",
    "    # p = num_hospitals\n",
    "    # m = num_patients\n",
    "    # layout of decision vector\n",
    "    # lentgh = n + n*m\n",
    "    # first n entries -> binary, whether or not a hospital is located at location j\n",
    "    # next n entries -> binary, which hospital is this patient allocated to, only one should be equal to one\n",
    "    # ^ one of those sets for each patient, total = m\n",
    "    vec_size = num_locations + num_locations * num_patients\n",
    "\n",
    "    # number of constraints\n",
    "    # leq constraints \n",
    "    # n constraints for the first set\n",
    "\n",
    "    # equality constraints\n",
    "    # m constraints for the second set\n",
    "    # one constraint for the last set\n",
    "\n",
    "    A_leq = np.empty((num_locations, vec_size))\n",
    "    b_leq = np.empty(num_locations)\n",
    "\n",
    "    A_eq = np.empty((num_patients + 1, vec_size))\n",
    "    b_eq = np.empty(num_patients + 1)\n",
    "\n",
    "    # first set of constraints -> all patients must be allocated to hospitals that exist\n",
    "    # attempting to do the smaller constraint set to improve performance (yes i know premature optimization yada yada whatever it should be fine)\n",
    "    constraint_leq_num = 0\n",
    "    for j in range(num_locations):\n",
    "        row = np.zeros(vec_size)\n",
    "        indexes = np.array(range(vec_size))\n",
    "        row[indexes % num_locations == j] = 1\n",
    "        row[j] = -num_patients\n",
    "        A_leq[constraint_leq_num:] = row\n",
    "        b_leq[constraint_leq_num] = 0\n",
    "        constraint_leq_num += 1\n",
    "\n",
    "    # second set of constraints -> everyone is allocated to one hospital\n",
    "    constraint_eq_num = 0\n",
    "    for i in range(num_patients):\n",
    "        row = np.zeros(vec_size)\n",
    "        indexes = np.array(range(vec_size))\n",
    "        row[indexes // num_locations == i + 1] = 1\n",
    "        A_eq[constraint_eq_num:] = row\n",
    "        b_eq[constraint_eq_num] = 1\n",
    "        constraint_eq_num += 1\n",
    "\n",
    "    # third constraint -> exactly p hospitals are allocated\n",
    "    row = np.zeros(vec_size)\n",
    "    indexes = np.array(range(vec_size))\n",
    "    row[indexes < num_locations] = 1\n",
    "    A_eq[-1:] = row\n",
    "    b_eq[-1:] = num_hospitals\n",
    "\n",
    "    bounds = np.array([(0, 1) for _ in range(vec_size)])\n",
    "    integrality = np.ones(vec_size)\n",
    "    return A_leq, b_leq, A_eq, b_eq, bounds, integrality"
   ]
  },
  {
   "cell_type": "code",
   "execution_count": 4,
   "metadata": {},
   "outputs": [],
   "source": [
    "def p_median_objective_function(distances):\n",
    "    _, num_locations = np.shape(distances)\n",
    "    return np.append(np.zeros(num_locations), np.ndarray.flatten(distances))"
   ]
  },
  {
   "cell_type": "code",
   "execution_count": 38,
   "metadata": {},
   "outputs": [],
   "source": [
    "def p_median_interpret_solution(solution, num_hospitals, num_patients, num_locations, output=True):\n",
    "    solution_x = np.array([round(v) for v in solution.x])\n",
    "    if solution.status != 0 and output:\n",
    "        print(f\"linprog failed: {solution.status}\")\n",
    "    mistakes = 0\n",
    "    choices = np.array(range(num_locations))[solution_x[:num_locations] == 1]\n",
    "    if output:\n",
    "        print(f\"Solution allocates hospitals at: {choices}\")\n",
    "    if len(choices) != num_hospitals:\n",
    "        if output:\n",
    "            print(f\"!! Failed to allocate the right number of hospitals! | Allocated {len(choices)} out of {num_hospitals}\")\n",
    "        mistakes += 1\n",
    "\n",
    "    vec_size = num_locations + num_locations * num_patients\n",
    "    for i in range(num_patients):\n",
    "        indexes = np.array(range(vec_size))\n",
    "        patient_allocation = solution_x[indexes // num_locations == i + 1]\n",
    "        choice = np.array(range(num_locations))[patient_allocation == 1]\n",
    "        if output:\n",
    "            print(f\"Patient #{i} => {choice}\")\n",
    "        if len(choice) != 1:\n",
    "            if output:\n",
    "                print(f\"!! Failed to properly allocate patient #{i}\")\n",
    "            mistakes += 1\n",
    "            continue\n",
    "        if not choice[0] in choices:\n",
    "            if output:\n",
    "                print(f\"Allocated patient #{i} to a location that does not exist ({choice})\")\n",
    "            mistakes += 1\n",
    "            continue\n",
    "    return mistakes"
   ]
  },
  {
   "cell_type": "code",
   "execution_count": 14,
   "metadata": {},
   "outputs": [],
   "source": [
    "A_leq, b_leq, A_eq, b_eq, bounds, integrality = p_median_constraint_matrix(num_hospitals=1, num_patients=2, num_locations=3)\n",
    "\n",
    "# two patients, A prefers location 1, B prefers location 2 but is ok with location 1\n",
    "# location 1 should get allocated\n",
    "distances = np.array([[1, 5, 7], [3, 1, 7]])\n",
    "c = p_median_objective_function(distances)"
   ]
  },
  {
   "cell_type": "code",
   "execution_count": 16,
   "metadata": {},
   "outputs": [
    {
     "name": "stdout",
     "output_type": "stream",
     "text": [
      "Solution allocates hospitals at: [0]\n",
      "Patient #0 => [0]\n",
      "Patient #1 => [0]\n"
     ]
    },
    {
     "data": {
      "text/plain": [
       "0"
      ]
     },
     "execution_count": 16,
     "metadata": {},
     "output_type": "execute_result"
    }
   ],
   "source": [
    "solution = linprog(c, A_leq, b_leq, A_eq, b_eq, bounds=bounds, integrality=integrality)\n",
    "solution.x\n",
    "p_median_interpret_solution(solution, 1, 2, 3)"
   ]
  },
  {
   "cell_type": "code",
   "execution_count": 39,
   "metadata": {},
   "outputs": [],
   "source": [
    "# testing performance/reliability\n",
    "mistakes = []\n",
    "for _ in range(100):\n",
    "    num_patients = 10\n",
    "    num_locations = 10\n",
    "    num_hospitals = 3\n",
    "    A_leq, b_leq, A_eq, b_eq, bounds, integrality = p_median_constraint_matrix(num_hospitals=num_hospitals, num_patients=num_patients, num_locations=num_locations)\n",
    "    # random distances \n",
    "    distances = np.random.rand(num_patients, num_locations)\n",
    "    c = p_median_objective_function(distances)\n",
    "    solution = linprog(c, A_leq, b_leq, A_eq, b_eq, bounds=bounds, integrality=integrality)\n",
    "    x = p_median_interpret_solution(solution, num_hospitals=num_hospitals, num_patients=num_patients, num_locations=num_locations,output=False)\n",
    "    if x > 0:\n",
    "        print(distances)\n",
    "        print(A_leq)\n",
    "        print(b_leq)\n",
    "        print(A_leq.dot(solution.x.T)) \n",
    "        print(A_eq)\n",
    "        print(b_eq)\n",
    "        print(A_eq.dot(solution.x.T)) \n",
    "        print(\"Locations\")\n",
    "        print(solution.x[:num_locations])\n",
    "        print(\"Patients\")\n",
    "        for i in range(num_patients):\n",
    "            print(solution.x[i*num_locations: (i+1)*num_locations])\n",
    "        p_median_interpret_solution(solution, num_hospitals=num_hospitals, num_patients=num_patients, num_locations=num_locations,output=True)\n",
    "        break\n",
    "    mistakes.append(x)"
   ]
  },
  {
   "cell_type": "code",
   "execution_count": 40,
   "metadata": {},
   "outputs": [
    {
     "name": "stdout",
     "output_type": "stream",
     "text": [
      "Average # of mistakes = 0.0\n"
     ]
    }
   ],
   "source": [
    "print(f\"Average # of mistakes = {sum(mistakes)/len(mistakes)}\")"
   ]
  },
  {
   "cell_type": "code",
   "execution_count": 42,
   "metadata": {},
   "outputs": [],
   "source": [
    "# testing performance/reliability\n",
    "mistakes = []\n",
    "for _ in range(100):\n",
    "    num_patients = 20\n",
    "    num_locations = 20\n",
    "    num_hospitals = 3\n",
    "    A_leq, b_leq, A_eq, b_eq, bounds, integrality = p_median_constraint_matrix(num_hospitals=num_hospitals, num_patients=num_patients, num_locations=num_locations)\n",
    "    # random distances \n",
    "    distances = np.random.rand(num_patients, num_locations)\n",
    "    c = p_median_objective_function(distances)\n",
    "    solution = linprog(c, A_leq, b_leq, A_eq, b_eq, bounds=bounds, integrality=integrality)\n",
    "    x = p_median_interpret_solution(solution, num_hospitals=num_hospitals, num_patients=num_patients, num_locations=num_locations, output=False);\n",
    "    mistakes.append(x)"
   ]
  },
  {
   "cell_type": "code",
   "execution_count": 43,
   "metadata": {},
   "outputs": [
    {
     "name": "stdout",
     "output_type": "stream",
     "text": [
      "Average # of mistakes = 0.0\n"
     ]
    }
   ],
   "source": [
    "print(f\"Average # of mistakes = {sum(mistakes)/len(mistakes)}\")"
   ]
  }
 ],
 "metadata": {
  "kernelspec": {
   "display_name": "Python 3.10.8 64-bit",
   "language": "python",
   "name": "python3"
  },
  "language_info": {
   "codemirror_mode": {
    "name": "ipython",
    "version": 3
   },
   "file_extension": ".py",
   "mimetype": "text/x-python",
   "name": "python",
   "nbconvert_exporter": "python",
   "pygments_lexer": "ipython3",
   "version": "3.10.8"
  },
  "orig_nbformat": 4,
  "vscode": {
   "interpreter": {
    "hash": "e7370f93d1d0cde622a1f8e1c04877d8463912d04d973331ad4851f04de6915a"
   }
  }
 },
 "nbformat": 4,
 "nbformat_minor": 2
}

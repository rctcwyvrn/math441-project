{
 "cells": [
  {
   "cell_type": "markdown",
   "metadata": {},
   "source": [
    "# P-median model\n",
    "\n",
    "\n",
    "Decision variables\n",
    "- Whether or not to have a hospital at location $j$, $X_j$\n",
    "- Whether or not to allocate customer $i$ to hospital at $j$, $Y_{ij}$\n",
    "\n",
    "Constraints\n",
    "- You can only allocate to hospitals that exist\n",
    "$\\forall i,j Y_{ij} \\leq X_j$, alternatively $\\forall j \\sum_i^m Y_{ij} \\leq m X_j$ \n",
    "- Each person needs to be allocated to one hospital $\\forall i \\sum_j^n Y_{ij} = 1$\n",
    "- Need to locate exactly $p$ hospitals $\\sum_j X_j = p$\n",
    "\n",
    "Objective function\n",
    "- Minimize the sum of $Y_{ij} cost(i,j)$, the sum of all the costs to reach hospital $j$ from location $i$"
   ]
  },
  {
   "cell_type": "markdown",
   "metadata": {},
   "source": [
    "Note:\n",
    "- The entire constraint matrix is only dependent on $p$, $n$, and $m$, the only part that actually depends on the actual lat/long locations is the objective function\n",
    "- So I should write something that generates the entire constraint matrix given the constants"
   ]
  },
  {
   "cell_type": "code",
   "execution_count": 2,
   "metadata": {},
   "outputs": [],
   "source": [
    "import numpy as np\n",
    "from scipy.optimize import linprog"
   ]
  },
  {
   "cell_type": "code",
   "execution_count": 44,
   "metadata": {},
   "outputs": [],
   "source": [
    "def p_median_constraint_matrix(num_hospitals, num_patients, num_locations):\n",
    "    # n = num_locations\n",
    "    # p = num_hospitals\n",
    "    # m = num_patients\n",
    "    # layout of decision vector\n",
    "    # lentgh = n + n*m\n",
    "    # first n entries -> binary, whether or not a hospital is located at location j\n",
    "    # next n entries -> binary, which hospital is this patient allocated to, only one should be equal to one\n",
    "    # ^ one of those sets for each patient, total = m\n",
    "    vec_size = num_locations + num_locations * num_patients\n",
    "\n",
    "    # number of constraints\n",
    "    # leq constraints \n",
    "    # n constraints for the first set\n",
    "\n",
    "    # equality constraints\n",
    "    # m constraints for the second set\n",
    "    # one constraint for the last set\n",
    "\n",
    "    A_leq = np.empty((num_locations, vec_size))\n",
    "    b_leq = np.empty(num_locations)\n",
    "\n",
    "    A_eq = np.empty((num_patients + 1, vec_size))\n",
    "    b_eq = np.empty(num_patients + 1)\n",
    "\n",
    "    # first set of constraints -> all patients must be allocated to hospitals that exist\n",
    "    # attempting to do the smaller constraint set to improve performance (yes i know premature optimization yada yada whatever it should be fine)\n",
    "    constraint_leq_num = 0\n",
    "    for j in range(num_locations):\n",
    "        row = np.zeros(vec_size)\n",
    "        indexes = np.array(range(vec_size))\n",
    "        row[indexes % num_locations == j] = 1\n",
    "        row[j] = -num_patients\n",
    "        A_leq[constraint_leq_num:] = row\n",
    "        b_leq[constraint_leq_num] = 0\n",
    "        constraint_leq_num += 1\n",
    "\n",
    "    # second set of constraints -> everyone is allocated to one hospital\n",
    "    constraint_eq_num = 0\n",
    "    for i in range(num_patients):\n",
    "        row = np.zeros(vec_size)\n",
    "        indexes = np.array(range(vec_size))\n",
    "        row[indexes // num_locations == i + 1] = 1\n",
    "        A_eq[constraint_eq_num:] = row\n",
    "        b_eq[constraint_eq_num] = 1\n",
    "        constraint_eq_num += 1\n",
    "\n",
    "    # third constraint -> exactly p hospitals are allocated\n",
    "    row = np.zeros(vec_size)\n",
    "    indexes = np.array(range(vec_size))\n",
    "    row[indexes < num_locations] = 1\n",
    "    A_eq[-1:] = row\n",
    "    b_eq[-1:] = num_hospitals\n",
    "\n",
    "    bounds = np.array([(0, 1) for _ in range(vec_size)])\n",
    "    integrality = np.ones(vec_size)\n",
    "    return A_leq, b_leq, A_eq, b_eq, bounds, integrality"
   ]
  },
  {
   "cell_type": "code",
   "execution_count": 41,
   "metadata": {},
   "outputs": [],
   "source": [
    "def p_median_objective_function(distances):\n",
    "    _, num_locations = np.shape(distances)\n",
    "    return np.append(np.zeros(num_locations), np.ndarray.flatten(distances))"
   ]
  },
  {
   "cell_type": "code",
   "execution_count": 86,
   "metadata": {},
   "outputs": [],
   "source": [
    "def p_median_interpret_solution(solution, num_hospitals, num_patients, num_locations):\n",
    "    choices = np.array(range(num_locations))[solution[:num_locations] == 1]\n",
    "    print(f\"Solution allocates hospitals at: {choices} | Allocated {len(choices)}/{num_hospitals}\")\n",
    "\n",
    "    vec_size = num_locations + num_locations * num_patients\n",
    "    for i in range(num_patients):\n",
    "        indexes = np.array(range(vec_size))\n",
    "        patient_allocation = solution[indexes // num_locations == i + 1]\n",
    "        choice = np.array(range(num_locations))[patient_allocation == 1]\n",
    "        print(f\"Patient #{i} => {choice}\")\n",
    "        if len(choice) != 1:\n",
    "            print(f\"!! Failed to properly allocate patient #{i}\")\n",
    "            continue\n",
    "        if not choice[0] in choices:\n",
    "            print(f\"Allocated patient #{i} to a location that does not exist ({choice})\")\n",
    "            continue"
   ]
  },
  {
   "cell_type": "code",
   "execution_count": 45,
   "metadata": {},
   "outputs": [],
   "source": [
    "A_leq, b_leq, A_eq, b_eq, bounds, integrality = p_median_constraint_matrix(num_hospitals=1, num_patients=2, num_locations=3)\n",
    "\n",
    "# two patients, A prefers location 1, B prefers location 2 but is ok with location 1\n",
    "# location 1 should get allocated\n",
    "distances = np.array([[1, 5, 7], [3, 1, 7]])\n",
    "c = p_median_objective_function(distances)"
   ]
  },
  {
   "cell_type": "code",
   "execution_count": 48,
   "metadata": {},
   "outputs": [
    {
     "data": {
      "text/plain": [
       "array([1., 0., 0., 1., 0., 0., 1., 0., 0.])"
      ]
     },
     "execution_count": 48,
     "metadata": {},
     "output_type": "execute_result"
    }
   ],
   "source": [
    "solution = linprog(c, A_leq, b_leq, A_eq, b_eq, bounds=bounds, integrality=integrality)\n",
    "solution.x"
   ]
  },
  {
   "cell_type": "code",
   "execution_count": 103,
   "metadata": {},
   "outputs": [],
   "source": [
    "# testing performance\n",
    "num_patients = 10\n",
    "num_locations = 100\n",
    "num_hospitals = 3\n",
    "A_leq, b_leq, A_eq, b_eq, bounds, integrality = p_median_constraint_matrix(num_hospitals=num_hospitals, num_patients=num_patients, num_locations=num_locations)\n",
    "# random distances \n",
    "distances = np.random.rand(num_patients, num_locations)\n",
    "c = p_median_objective_function(distances)"
   ]
  },
  {
   "cell_type": "code",
   "execution_count": 104,
   "metadata": {},
   "outputs": [],
   "source": [
    "solution = linprog(c, A_leq, b_leq, A_eq, b_eq, bounds=bounds, integrality=integrality)\n",
    "# solution.x"
   ]
  },
  {
   "cell_type": "code",
   "execution_count": 105,
   "metadata": {},
   "outputs": [
    {
     "name": "stdout",
     "output_type": "stream",
     "text": [
      "Solution allocates hospitals at: [72 98] | Allocated 2/3\n",
      "Patient #0 => [98]\n",
      "Patient #1 => [98]\n",
      "Patient #2 => []\n",
      "!! Failed to properly allocate patient #2\n",
      "Patient #3 => [98]\n",
      "Patient #4 => [98]\n",
      "Patient #5 => []\n",
      "!! Failed to properly allocate patient #5\n",
      "Patient #6 => [72]\n",
      "Patient #7 => []\n",
      "!! Failed to properly allocate patient #7\n",
      "Patient #8 => [72]\n",
      "Patient #9 => []\n",
      "!! Failed to properly allocate patient #9\n"
     ]
    }
   ],
   "source": [
    "p_median_interpret_solution(solution.x, num_hospitals=num_hospitals, num_patients=num_patients, num_locations=num_locations)"
   ]
  }
 ],
 "metadata": {
  "kernelspec": {
   "display_name": "Python 3.8.10 64-bit",
   "language": "python",
   "name": "python3"
  },
  "language_info": {
   "codemirror_mode": {
    "name": "ipython",
    "version": 3
   },
   "file_extension": ".py",
   "mimetype": "text/x-python",
   "name": "python",
   "nbconvert_exporter": "python",
   "pygments_lexer": "ipython3",
   "version": "3.8.10"
  },
  "orig_nbformat": 4,
  "vscode": {
   "interpreter": {
    "hash": "916dbcbb3f70747c44a77c7bcd40155683ae19c65e1c03b4aa3499c5328201f1"
   }
  }
 },
 "nbformat": 4,
 "nbformat_minor": 2
}
